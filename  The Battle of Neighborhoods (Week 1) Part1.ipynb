{
 "cells": [
  {
   "cell_type": "markdown",
   "metadata": {},
   "source": [
    "## Introduction"
   ]
  },
  {
   "cell_type": "markdown",
   "metadata": {},
   "source": [
    "### Problem Background:\n",
    "The New York city is the one of populars city in the world. It is diverse and is the biggest financial city in USA. And this citi has multicultural so this is strong point, It can provides lot of business oppourtunities and business friendly environment. It has attracted many people into the market. New York is a hub of business and commerce of the world. With a major center for banking and finance, retailing, food, transportation and tourism in the United States.\n",
    "\n",
    "Throughout its history, New York City has been a major point of entry for immigrants in last 200 years; the term \"melting pot\" was coined to describe densely populated immigrant neighborhoods on the Lower East Side. As many languages are spoken in New York, making it the most linguistically diverse city in the world.\n",
    "\n",
    "From it's diverse culture, comes diverse food menus. There are many resturants in New york City, each belonging to different categories like Chinese , Japanese ,Thai, Indian , French, Italian etc."
   ]
  },
  {
   "cell_type": "markdown",
   "metadata": {},
   "source": [
    "### Problem Description:\n",
    "The goal for this is to list and visualize all major parts of New York City that has Thai resturants.\n",
    "\n",
    "\n",
    "#### Questions that can be asked.\n",
    "<li>What is best location in New York City for Thai Cuisine ?  </li>\n",
    "<li>Which areas have potential Thai Resturant Market ? </li>\n",
    "<li>Which all areas lack of Thai Resturants ? </li> \n",
    "<li>Which is the best place to stay if I prefer Thai Cuisine ? </li>"
   ]
  },
  {
   "cell_type": "code",
   "execution_count": null,
   "metadata": {},
   "outputs": [],
   "source": []
  }
 ],
 "metadata": {
  "kernelspec": {
   "display_name": "Python 3",
   "language": "python",
   "name": "python3"
  },
  "language_info": {
   "codemirror_mode": {
    "name": "ipython",
    "version": 3
   },
   "file_extension": ".py",
   "mimetype": "text/x-python",
   "name": "python",
   "nbconvert_exporter": "python",
   "pygments_lexer": "ipython3",
   "version": "3.6.8"
  }
 },
 "nbformat": 4,
 "nbformat_minor": 2
}
