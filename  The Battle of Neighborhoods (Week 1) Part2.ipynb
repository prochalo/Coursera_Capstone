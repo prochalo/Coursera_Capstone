{
 "cells": [
  {
   "cell_type": "markdown",
   "metadata": {},
   "source": [
    "## Data"
   ]
  },
  {
   "cell_type": "markdown",
   "metadata": {},
   "source": [
    "For this capstone project, following data :<br>\n",
    "\n",
    "<b>New York City data that contains list Boroughs, Neighborhoods along with their latitude and longitude.</b><br>\n",
    "Source : https://cocl.us/new_york_dataset <br>\n",
    "Description : This data set contains the required information. And we will use this data set to explore various neighborhoods of new york city. <br>\n",
    "<b>Thai resturants in each neighborhood of new york city.</b><br>\n",
    "Source : Fousquare API<br>\n",
    "Description : By using this api we will get all the venues in each neighborhood. We can filter these venues to get only Thai resturants.<br>\n",
    "<b>Geo Data.</b><br>\n",
    "Source : https://data.cityofnewyork.us/City-Government/Borough-Boundaries/tqmj-j8zm <br>\n",
    "Description : By using this geo space data we will get the New york Borough boundaries that will help us visualize choropleth map using folium."
   ]
  },
  {
   "cell_type": "markdown",
   "metadata": {},
   "source": [
    "#### Process\n",
    "<li>Collect the new york city data from https://cocl.us/new_york_dataset </li>\n",
    "<li>Using FourSquare API we will find all venues for each neighborhood. </li>\n",
    "<li>Filter out all venues that are Thai Resturants. </li>\n",
    "<li>Find rating , tips and like count for each Thai Resturants using FourSquare API. </li>\n",
    "<li>Using rating for each resturant , we will sort that data. </li>\n",
    "<li>Visualize the Ranking of neighborhoods using folium library</li>\n",
    "\n"
   ]
  },
  {
   "cell_type": "code",
   "execution_count": null,
   "metadata": {},
   "outputs": [],
   "source": []
  }
 ],
 "metadata": {
  "kernelspec": {
   "display_name": "Python 3",
   "language": "python",
   "name": "python3"
  },
  "language_info": {
   "codemirror_mode": {
    "name": "ipython",
    "version": 3
   },
   "file_extension": ".py",
   "mimetype": "text/x-python",
   "name": "python",
   "nbconvert_exporter": "python",
   "pygments_lexer": "ipython3",
   "version": "3.6.8"
  }
 },
 "nbformat": 4,
 "nbformat_minor": 2
}
